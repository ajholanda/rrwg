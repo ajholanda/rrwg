{
 "cells": [
  {
   "cell_type": "markdown",
   "id": "gentle-number",
   "metadata": {},
   "source": [
    "# RRWG\n",
    "\n"
   ]
  },
  {
   "cell_type": "markdown",
   "id": "specified-pathology",
   "metadata": {},
   "source": [
    "## Graphs\n",
    "\n",
    "A graph data structure is composed by a list of adjacencies \n",
    "where the index of the list is used to represent a vertex and its\n",
    "adjacencies that is another list with vertex indices as elements that\n",
    "represent the link or arc between source vertex and its destination.\n",
    "Integers are used to identify the vertices to make the code more concise.\n",
    "The structure is showed as follows:"
   ]
  },
  {
   "cell_type": "markdown",
   "id": "ahead-publicity",
   "metadata": {},
   "source": []
  },
  {
   "cell_type": "markdown",
   "id": "champion-shoot",
   "metadata": {},
   "source": [
    "## RWG format\n",
    "\n",
    "```\n",
    "1,2     0       *1\n",
    "0,2     *2      3\n",
    "0,1     4       5\n",
    "```"
   ]
  }
 ],
 "metadata": {
  "kernelspec": {
   "display_name": "Python 3",
   "language": "python",
   "name": "python3"
  },
  "language_info": {
   "codemirror_mode": {
    "name": "ipython",
    "version": 3
   },
   "file_extension": ".py",
   "mimetype": "text/x-python",
   "name": "python",
   "nbconvert_exporter": "python",
   "pygments_lexer": "ipython3",
   "version": "3.9.2"
  }
 },
 "nbformat": 4,
 "nbformat_minor": 5
}
